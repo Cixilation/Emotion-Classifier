{
 "cells": [
  {
   "cell_type": "code",
   "execution_count": 12,
   "id": "f068e193",
   "metadata": {},
   "outputs": [],
   "source": [
    "import os\n",
    "import csv\n",
    "from sklearn.preprocessing import LabelEncoder"
   ]
  },
  {
   "cell_type": "code",
   "execution_count": null,
   "id": "1720f49a",
   "metadata": {},
   "outputs": [
    {
     "name": "stdout",
     "output_type": "stream",
     "text": [
      "Unique Label Mappings:\n",
      "Anger -> 0\n",
      "Disgusted -> 1\n",
      "Fear -> 2\n",
      "Happy -> 3\n",
      "Neutral -> 4\n",
      "Sad -> 5\n",
      "Surprised -> 6\n",
      "Labeled data saved to labeled_data.csv\n"
     ]
    }
   ],
   "source": [
    "dataset_dir = \"Dataset\"\n",
    "\n",
    "file_paths = []\n",
    "labels = []\n",
    "\n",
    "for label in os.listdir(dataset_dir):\n",
    "    label_dir = os.path.join(dataset_dir, label)\n",
    "    \n",
    "    if os.path.isdir(label_dir):\n",
    "        for file in os.listdir(label_dir):\n",
    "            if file.endswith(\".wav\"):\n",
    "                file_paths.append(os.path.join(label_dir, file))\n",
    "                labels.append(label)\n",
    "\n",
    "label_encoder = LabelEncoder()\n",
    "encoded_labels = label_encoder.fit_transform(labels)\n",
    "print(\"Unique Label Mappings:\")\n",
    "for original, encoded in zip(label_encoder.classes_, range(len(label_encoder.classes_))):\n",
    "    print(f\"{original} -> {encoded}\")\n",
    "\n",
    "with open(\"labeled_data.csv\", mode=\"w\", newline='') as file:\n",
    "    writer = csv.writer(file)\n",
    "    writer.writerow([\"file_path\", \"label\"]) \n",
    "    for path, encoded_label in zip(file_paths, encoded_labels):\n",
    "        writer.writerow([path, encoded_label])\n",
    "\n",
    "print(\"Labeled data saved to labeled_data.csv\")\n"
   ]
  }
 ],
 "metadata": {
  "kernelspec": {
   "display_name": "speech_recognition",
   "language": "python",
   "name": "python3"
  },
  "language_info": {
   "codemirror_mode": {
    "name": "ipython",
    "version": 3
   },
   "file_extension": ".py",
   "mimetype": "text/x-python",
   "name": "python",
   "nbconvert_exporter": "python",
   "pygments_lexer": "ipython3",
   "version": "3.10.9"
  }
 },
 "nbformat": 4,
 "nbformat_minor": 5
}

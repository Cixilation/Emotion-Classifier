{
 "cells": [
  {
   "cell_type": "code",
   "execution_count": 12,
   "id": "f068e193",
   "metadata": {},
   "outputs": [],
   "source": [
    "import os\n",
    "import csv\n",
    "from sklearn.preprocessing import LabelEncoder"
   ]
  },
  {
   "cell_type": "code",
   "execution_count": null,
   "id": "2d093643",
   "metadata": {},
   "outputs": [],
   "source": [
    "# This function divides the emotion file from the dataset.\n",
    "# Iterate through the `Dataset` directory, and for each file, check if its name contains one of the keywords: `ANG`, `DIS`, `FEA`, `HAP`, `NEU`, or `SAD`. If a match is found, copy the file to the corresponding folder in the destination directory.\n",
    "\n",
    "def CremaDivider(folder):\n",
    "    print(f\"Dividing Crema dataset {folder} in ...\")\n",
    "    src_dir = './Dataset/' + folder\n",
    "    dest_dir = './FixedDataset'\n",
    "    # anger fear happy neutral sad \n",
    "    # Mapping of emotion codes in filename to target folders\n",
    "    emotion_map = {\n",
    "        'ANG': 'Anger',\n",
    "        # 'DIS': 'Disgusted',\n",
    "        'FEA': 'Fear',\n",
    "        'HAP': 'Happy',\n",
    "        'NEU': 'Neutral',\n",
    "        'SAD': 'Sad'\n",
    "    }\n",
    "    for file in os.listdir(src_dir):\n",
    "        if file.endswith('.wav'):\n",
    "            parts = file.split('_')\n",
    "            if len(parts) >= 3:\n",
    "                emotion_code = parts[2]\n",
    "                target_emotion = emotion_map.get(emotion_code)\n",
    "                \n",
    "                if target_emotion:\n",
    "                    src_path = os.path.join(src_dir, file)\n",
    "                    dest_folder = os.path.join(dest_dir, target_emotion)\n",
    "                    dest_path = os.path.join(dest_folder, file)\n",
    "                    os.makedirs(dest_folder, exist_ok=True)\n",
    "                    with open(src_path, 'rb') as src_file:\n",
    "                        with open(dest_path, 'wb') as dst_file:\n",
    "                            dst_file.write(src_file.read())\n",
    "\n",
    "folder_emotion_map = [\n",
    "    'anger',\n",
    "    # 'disgust',\n",
    "    'fear',\n",
    "    'happy',\n",
    "    'neutral',\n",
    "    'sad'\n",
    "]\n",
    "\n",
    "for folder in folder_emotion_map:\n",
    "    CremaDivider(folder)"
   ]
  },
  {
   "cell_type": "code",
   "execution_count": null,
   "id": "1720f49a",
   "metadata": {},
   "outputs": [
    {
     "name": "stdout",
     "output_type": "stream",
     "text": [
      "Unique Label Mappings:\n",
      "Anger -> 0\n",
      "Disgusted -> 1\n",
      "Fear -> 2\n",
      "Happy -> 3\n",
      "Neutral -> 4\n",
      "Sad -> 5\n",
      "Surprised -> 6\n",
      "Labeled data saved to labeled_data.csv\n"
     ]
    }
   ],
   "source": [
    "dataset_dir = \"FixedDataset\"\n",
    "\n",
    "file_paths = []\n",
    "labels = []\n",
    "\n",
    "for label in os.listdir(dataset_dir):\n",
    "    label_dir = os.path.join(dataset_dir, label)\n",
    "    \n",
    "    if os.path.isdir(label_dir):\n",
    "        for file in os.listdir(label_dir):\n",
    "            if file.endswith(\".wav\"):\n",
    "                file_paths.append(os.path.join(label_dir, file))\n",
    "                labels.append(label)\n",
    "\n",
    "label_encoder = LabelEncoder()\n",
    "encoded_labels = label_encoder.fit_transform(labels)\n",
    "print(\"Unique Label Mappings:\")\n",
    "for original, encoded in zip(label_encoder.classes_, range(len(label_encoder.classes_))):\n",
    "    print(f\"{original} -> {encoded}\")\n",
    "\n",
    "with open(\"labeled_data.csv\", mode=\"w\", newline='') as file:\n",
    "    writer = csv.writer(file)\n",
    "    writer.writerow([\"file_path\", \"label\"]) \n",
    "    for path, encoded_label in zip(file_paths, encoded_labels):\n",
    "        writer.writerow([path, encoded_label])\n",
    "\n",
    "print(\"Labeled data saved to labeled_data.csv\")\n"
   ]
  }
 ],
 "metadata": {
  "kernelspec": {
   "display_name": "speech_recognition",
   "language": "python",
   "name": "python3"
  },
  "language_info": {
   "codemirror_mode": {
    "name": "ipython",
    "version": 3
   },
   "file_extension": ".py",
   "mimetype": "text/x-python",
   "name": "python",
   "nbconvert_exporter": "python",
   "pygments_lexer": "ipython3",
   "version": "3.10.9"
  }
 },
 "nbformat": 4,
 "nbformat_minor": 5
}

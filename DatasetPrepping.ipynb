{
 "cells": [
  {
   "cell_type": "code",
   "execution_count": 2,
   "id": "f068e193",
   "metadata": {},
   "outputs": [],
   "source": [
    "import os\n",
    "import csv\n",
    "from sklearn.preprocessing import LabelEncoder"
   ]
  },
  {
   "cell_type": "code",
   "execution_count": null,
   "id": "829181f8",
   "metadata": {},
   "outputs": [
    {
     "name": "stdout",
     "output_type": "stream",
     "text": [
      "Dividing Crema dataset...\n"
     ]
    }
   ],
   "source": [
    "# This function divides the emotion file from the dataset.\n",
    "# Iterate through the `Dataset` directory, and for each file, check if its name contains one of the keywords: `ANG`, `DIS`, `FEA`, `HAP`, `NEU`, or `SAD`. If a match is found, copy the file to the corresponding folder in the destination directory.\n",
    "\n",
    "folder_emotion_map = [\n",
    "    'anger',\n",
    "    # 'disgust',\n",
    "    'fear',\n",
    "    'happy',\n",
    "    'neutral',\n",
    "    'sad'\n",
    "]\n",
    "\n",
    "def CremaDivider(folder):\n",
    "    print(f\"Dividing Crema dataset {folder} in ...\")\n",
    "    src_dir = './Dataset/' + folder\n",
    "    dest_dir = './FixedDataset'\n",
    "    # anger fear happy neutral sad \n",
    "    # Mapping of emotion codes in filename to target folders\n",
    "    emotion_map = {\n",
    "        'ANG': 'Anger',\n",
    "        # 'DIS': 'Disgusted',\n",
    "        'FEA': 'Fear',\n",
    "        'HAP': 'Happy',\n",
    "        'NEU': 'Neutral',\n",
    "        'SAD': 'Sad'\n",
    "    }\n",
    "    for file in os.listdir(src_dir):\n",
    "        if file.endswith('.wav'):\n",
    "            parts = file.split('_')\n",
    "            if len(parts) >= 3:\n",
    "                emotion_code = parts[2]\n",
    "                target_emotion = emotion_map.get(emotion_code)\n",
    "                \n",
    "                if target_emotion:\n",
    "                    src_path = os.path.join(src_dir, file)\n",
    "                    dest_folder = os.path.join(dest_dir, target_emotion)\n",
    "                    dest_path = os.path.join(dest_folder, file)\n",
    "                    os.makedirs(dest_folder, exist_ok=True)\n",
    "                    with open(src_path, 'rb') as src_file:\n",
    "                        with open(dest_path, 'wb') as dst_file:\n",
    "                            dst_file.write(src_file.read())\n",
    "\n",
    "\n",
    "\n",
    "for folder in folder_emotion_map:\n",
    "    CremaDivider(folder)"
   ]
  },
  {
   "cell_type": "code",
   "execution_count": 15,
   "id": "ec4dba0c",
   "metadata": {},
   "outputs": [],
   "source": [
    "# This function divides the emotion file from the Ravdess dataset.\n",
    "# Iterate through the `./Dataset/Ravdess/audio_speech_actors_01-24` directory, and for each file, check if the third number keywords as per the emotion map. If a match is found, copy the file to the corresponding folder in the destination directory.\n",
    "\n",
    "def RavdessDivider():\n",
    "    print(\"Dividing RAVDESS dataset...\")\n",
    "    src_dir = './Dataset/Ravdess/audio_speech_actors_01-24'\n",
    "    dest_dir = './FixedDataset'\n",
    "\n",
    "    emotion_map = {\n",
    "        '01': 'Neutral',\n",
    "        '02': 'Neutral',  # The original is 'Calm', but we will use 'Neutral' for consistency\n",
    "        '03': 'Happy',\n",
    "        '04': 'Sad',\n",
    "        '05': 'Anger',\n",
    "        '06': 'Fear',\n",
    "        '07': 'Disgusted',\n",
    "        '08': 'Surprised' \n",
    "    }\n",
    "\n",
    "    for actor_folder in os.listdir(src_dir):\n",
    "        actor_path = os.path.join(src_dir, actor_folder)\n",
    "        if os.path.isdir(actor_path):\n",
    "            for file in os.listdir(actor_path):\n",
    "                if file.endswith('.wav'):\n",
    "                    parts = file.split('-')\n",
    "                    if len(parts) >= 3:\n",
    "                        emotion_code = parts[2]\n",
    "                        emotion_name = emotion_map.get(emotion_code)\n",
    "                        if emotion_name:\n",
    "                            src_path = os.path.join(actor_path, file)\n",
    "                            dest_folder = os.path.join(dest_dir, emotion_name)\n",
    "                            dest_path = os.path.join(dest_folder, file)\n",
    "\n",
    "                            os.makedirs(dest_folder, exist_ok=True)\n",
    "\n",
    "                            with open(src_path, 'rb') as src_file, open(dest_path, 'wb') as dst_file:\n",
    "                                dst_file.write(src_file.read())\n"
   ]
  },
  {
   "cell_type": "code",
   "execution_count": 16,
   "id": "53e994d2",
   "metadata": {},
   "outputs": [],
   "source": [
    "# This function divides the emotion file from the Savee dataset.\n",
    "# Iterate through the `./Dataset/Savee` directory, and for each file, check if its name contains one of the keywords: `a`, `d`, `f`, `h`, `n`, `sa`, or `su`. If a match is found, copy the file to the corresponding folder in the destination directory.\n",
    "\n",
    "def SaveeDivider():\n",
    "    print(\"Dividing SAVEE dataset...\")\n",
    "    src_dir = './Dataset/Savee'\n",
    "    dest_dir = './FixedDataset'\n",
    "    \n",
    "    emotion_map = {\n",
    "        'a': 'Anger',\n",
    "        'd': 'Disgusted',\n",
    "        'f': 'Fear',\n",
    "        'h': 'Happy',\n",
    "        'n': 'Neutral',\n",
    "        'sa': 'Sad',\n",
    "        'su': 'Surprised'\n",
    "    }\n",
    "\n",
    "    for file in os.listdir(src_dir):\n",
    "        if file.endswith('.wav'):\n",
    "            name = file.lower()\n",
    "            emotion = None\n",
    "            for prefix in sorted(emotion_map.keys(), key=lambda x: -len(x)):  # Check 'sa' before 's'\n",
    "                if f'_{prefix}' in name:\n",
    "                    emotion = emotion_map[prefix]\n",
    "                    break\n",
    "            if emotion:\n",
    "                src_path = os.path.join(src_dir, file)\n",
    "                dest_path = os.path.join(dest_dir, emotion)\n",
    "                os.makedirs(dest_path, exist_ok=True)\n",
    "                with open(src_path, 'rb') as fsrc, open(os.path.join(dest_path, file), 'wb') as fdst:\n",
    "                    fdst.write(fsrc.read())\n"
   ]
  },
  {
   "cell_type": "code",
   "execution_count": 23,
   "id": "2d093643",
   "metadata": {},
   "outputs": [],
   "source": [
    "# This function divides the emotion file from the Tess dataset.\n",
    "# Iterate through the `./Dataset/Tess` directory, and for each file, check if its folder contains one of the keywords as per the emotion map. If a match is found, copy the file to the corresponding folder in the destination directory.\n",
    "def TessDivider():\n",
    "    print(\"Dividing TESS dataset to existing folders...\")\n",
    "\n",
    "    src_dir = './Dataset/Tess'\n",
    "    dest_dir = './FixedDataset'\n",
    "\n",
    "    emotion_map = {\n",
    "        'angry': 'Anger',\n",
    "        'disgust': 'Disgusted',\n",
    "        'fear': 'Fear',\n",
    "        'happy': 'Happy',\n",
    "        'neutral': 'Neutral',\n",
    "        'sad': 'Sad',\n",
    "        'surprise': 'Surprised'\n",
    "    }\n",
    "\n",
    "    for folder in os.listdir(src_dir):\n",
    "        folder_path = os.path.join(src_dir, folder)\n",
    "        if not os.path.isdir(folder_path):\n",
    "            continue\n",
    "\n",
    "        matched = False\n",
    "        for key, target_folder in emotion_map.items():\n",
    "            if key in folder.lower():\n",
    "                target_path = os.path.join(dest_dir, target_folder)\n",
    "                if not os.path.exists(target_path):\n",
    "                    print(f\"Skipping '{folder}' — no target folder: {target_path}\")\n",
    "                    break\n",
    "                for file in os.listdir(folder_path):\n",
    "                    if file.endswith('.wav'):\n",
    "                        src_path = os.path.join(folder_path, file)\n",
    "                        dst_path = os.path.join(target_path, file)\n",
    "                        with open(src_path, 'rb') as fsrc, open(dst_path, 'wb') as fdst:\n",
    "                            fdst.write(fsrc.read())\n",
    "                matched = True\n",
    "                break\n",
    "\n",
    "        if not matched:\n",
    "            print(f\"No emotion match found for folder: {folder}\")"
   ]
  },
  {
   "cell_type": "code",
   "execution_count": null,
   "id": "9d086c5c",
   "metadata": {},
   "outputs": [],
   "source": [
    "# leftover folders is also getting sorted out here\n",
    "\n",
    "def DividingDataset():\n",
    "    dataset_root = './Dataset'\n",
    "    fixed_root = './Datsaset'\n",
    "    \n",
    "    emotion_map = {\n",
    "        'anger': 'Anger',\n",
    "        # 'disgust': 'Disgusted',\n",
    "        'fear': 'Fear',\n",
    "        'happy': 'Happy',\n",
    "        'neutral': 'Neutral',\n",
    "        'sad': 'Sad'\n",
    "    }\n",
    "\n",
    "    for emotion in emotion_map:\n",
    "        source_folder = os.path.join(dataset_root, emotion)\n",
    "        dest_folder = os.path.join(fixed_root, emotion_map[emotion])\n",
    "\n",
    "        if not os.path.exists(source_folder) or not os.path.exists(dest_folder):\n",
    "            print(f\"Skipping {emotion}: source or destination folder missing.\")\n",
    "            continue\n",
    "\n",
    "        files = [f for f in os.listdir(source_folder) if f.endswith('.wav')]\n",
    "        if not files:\n",
    "            print(f\"No .wav files found in {source_folder}\")\n",
    "            continue\n",
    "\n",
    "        for file in files:\n",
    "            src_path = os.path.join(source_folder, file)\n",
    "            dst_path = os.path.join(dest_folder, file)\n",
    "\n",
    "            os.makedirs(dest_folder, exist_ok=True)\n",
    "\n",
    "            with open(src_path, 'rb') as src_file, open(dst_path, 'wb') as dst_file:\n",
    "                dst_file.write(src_file.read())\n"
   ]
  },
  {
   "cell_type": "code",
   "execution_count": 9,
   "id": "bb11bb3f",
   "metadata": {},
   "outputs": [
    {
     "name": "stdout",
     "output_type": "stream",
     "text": [
      "Dividing Crema dataset...\n"
     ]
    }
   ],
   "source": [
    "CremaDivider()\n"
   ]
  },
  {
   "cell_type": "code",
   "execution_count": 20,
   "id": "776d1a9f",
   "metadata": {},
   "outputs": [
    {
     "name": "stdout",
     "output_type": "stream",
     "text": [
      "Dividing RAVDESS dataset...\n"
     ]
    }
   ],
   "source": [
    "RavdessDivider()\n"
   ]
  },
  {
   "cell_type": "code",
   "execution_count": 21,
   "id": "0f20bbd0",
   "metadata": {},
   "outputs": [
    {
     "name": "stdout",
     "output_type": "stream",
     "text": [
      "Dividing SAVEE dataset...\n"
     ]
    }
   ],
   "source": [
    "SaveeDivider()\n"
   ]
  },
  {
   "cell_type": "code",
   "execution_count": 24,
   "id": "e144a8ac",
   "metadata": {},
   "outputs": [
    {
     "name": "stdout",
     "output_type": "stream",
     "text": [
      "Dividing TESS dataset to existing folders...\n"
     ]
    }
   ],
   "source": [
    "TessDivider()\n"
   ]
  },
  {
   "cell_type": "code",
   "execution_count": 6,
   "id": "f9b0a83f",
   "metadata": {},
   "outputs": [],
   "source": [
    "DividingLeftovers()"
   ]
  },
  {
   "cell_type": "code",
   "execution_count": null,
   "id": "1720f49a",
   "metadata": {},
   "outputs": [
    {
     "name": "stdout",
     "output_type": "stream",
     "text": [
      "Unique Label Mappings:\n",
      "Anger -> 0\n",
      "Fear -> 1\n",
      "Happy -> 2\n",
      "Neutral -> 3\n",
      "Sad -> 4\n",
      "Labeled data saved to labeled_data.csv\n"
     ]
    }
   ],
   "source": [
    "dataset_dir = \"Dataset\"\n",
    "\n",
    "file_paths = []\n",
    "labels = []\n",
    "\n",
    "for label in os.listdir(dataset_dir):\n",
    "    label_dir = os.path.join(dataset_dir, label)\n",
    "    \n",
    "    if os.path.isdir(label_dir):\n",
    "        for file in os.listdir(label_dir):\n",
    "            if file.endswith(\".wav\"):\n",
    "                file_paths.append(os.path.join(label_dir, file))\n",
    "                labels.append(label)\n",
    "\n",
    "label_encoder = LabelEncoder()\n",
    "encoded_labels = label_encoder.fit_transform(labels)\n",
    "print(\"Unique Label Mappings:\")\n",
    "for original, encoded in zip(label_encoder.classes_, range(len(label_encoder.classes_))):\n",
    "    print(f\"{original} -> {encoded}\")\n",
    "\n",
    "with open(\"labeled_data.csv\", mode=\"w\", newline='') as file:\n",
    "    writer = csv.writer(file)\n",
    "    writer.writerow([\"file_path\", \"label\"]) \n",
    "    for path, encoded_label in zip(file_paths, encoded_labels):\n",
    "        writer.writerow([path, encoded_label])\n",
    "\n",
    "print(\"Labeled data saved to labeled_data.csv\")\n"
   ]
  }
 ],
 "metadata": {
  "kernelspec": {
   "display_name": "speech_recognition",
   "language": "python",
   "name": "python3"
  },
  "language_info": {
   "codemirror_mode": {
    "name": "ipython",
    "version": 3
   },
   "file_extension": ".py",
   "mimetype": "text/x-python",
   "name": "python",
   "nbconvert_exporter": "python",
   "pygments_lexer": "ipython3",
   "version": "3.10.9"
  }
 },
 "nbformat": 4,
 "nbformat_minor": 5
}
